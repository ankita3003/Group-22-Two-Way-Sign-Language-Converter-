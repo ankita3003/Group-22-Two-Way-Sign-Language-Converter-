{
 "cells": [
  {
   "cell_type": "code",
   "execution_count": 1,
   "metadata": {},
   "outputs": [],
   "source": [
    "import speech_recognition as sr\n",
    "import sys\n",
    "import glob\n",
    "import cv2\n",
    "import string\n",
    "from tkinter import *\n",
    "from functools import partial\n",
    "import tkinter.font\n",
    "from PIL import ImageTk,Image\n",
    "import time"
   ]
  },
  {
   "cell_type": "code",
   "execution_count": 2,
   "metadata": {},
   "outputs": [],
   "source": [
    "def speak():\n",
    "    r=sr.Recognizer()\n",
    "    with sr.Microphone(device_index=8,chunk_size=3024) as source:\n",
    "        #saving the voice input in variable audio\n",
    "        audio=r.listen(source,timeout=5,phrase_time_limit=5)\n",
    "\n",
    "        \n",
    "        try:\n",
    "            inputDialogue=r.recognize_google(audio)\n",
    "#             label3=Label(root,text='You Said: '+inputDialogue,fg='blue',font=tk_font,bg='#fff')\n",
    "#             label3.place(relx=.5,rely=.2,anchor=CENTER)\n",
    "#             inputDialogue='good morning how are you'\n",
    "            process_text(inputDialogue)\n",
    "        except:\n",
    "            label1=Label(root,text='COULD NOT RECOGNIZE',fg='blue',font=tk_font,bg='#fff')\n",
    "            label1.place(relx=.5,rely=.2,anchor=CENTER)\n",
    "            root.update()\n",
    "            time.sleep(2)\n",
    "            label1.destroy()"
   ]
  },
  {
   "cell_type": "code",
   "execution_count": 3,
   "metadata": {},
   "outputs": [],
   "source": [
    "def process_text(inputDialogue):\n",
    "    \n",
    "    \n",
    "    wordsSpoken=inputDialogue.split()\n",
    "    numberOfWordsSpoken=len(wordsSpoken)\n",
    "    #to lower case\n",
    "    for i in range(numberOfWordsSpoken):\n",
    "        wordsSpoken[i]=wordsSpoken[i].lower()\n",
    "                    \n",
    "    \n",
    "    for i in range(numberOfWordsSpoken):\n",
    "        \n",
    "        for words in glob.glob('./images/*'):\n",
    "            actualWord=words.split(\"/\")[2].split(\".\")[0]\n",
    "            if actualWord !=wordsSpoken[i]:\n",
    "                 continue\n",
    "            else:\n",
    "       \n",
    "                label2=Label(root,text=actualWord,fg='white',font=tk_font,bg='#000')\n",
    "                label2.config(font=(\"Courier\", 44))\n",
    "                label2.place(relx=.5,rely=.25,anchor=CENTER)\n",
    "                load = Image.open(words)\n",
    "                render = ImageTk.PhotoImage(load)\n",
    "                \n",
    "                img = Label(root, image=render)\n",
    "                img.image = render\n",
    "                \n",
    "                img.place(relx=.5, rely=.6, anchor=CENTER)\n",
    "                root.update()\n",
    "                time.sleep(3)\n",
    "                img.destroy()\n",
    "                label2.destroy()\n",
    "               \n",
    "                break\n",
    "\n"
   ]
  },
  {
   "cell_type": "code",
   "execution_count": null,
   "metadata": {},
   "outputs": [],
   "source": [
    "root = Tk()\n",
    "root.geometry('1000x800+0+0')\n",
    "root.title('Speech To Sign Language')\n",
    "root.config(bg=\"#000\")\n",
    "\n",
    "tk_font=tkinter.font.Font(root=root,family='Times',size='16')\n",
    "\n",
    "\n",
    "speak_btn=Button(root,text='SPEAK',font=tk_font,width=25,height=3,bg='#42f498',fg='#fff',command=speak)\n",
    "speak_btn.place(relx=.5, rely=.1, anchor=CENTER)\n",
    "\n",
    "root.mainloop()"
   ]
  },
  {
   "cell_type": "code",
   "execution_count": null,
   "metadata": {},
   "outputs": [],
   "source": []
  }
 ],
 "metadata": {
  "kernelspec": {
   "display_name": "Python 3",
   "language": "python",
   "name": "python3"
  },
  "language_info": {
   "codemirror_mode": {
    "name": "ipython",
    "version": 3
   },
   "file_extension": ".py",
   "mimetype": "text/x-python",
   "name": "python",
   "nbconvert_exporter": "python",
   "pygments_lexer": "ipython3",
   "version": "3.6.2"
  }
 },
 "nbformat": 4,
 "nbformat_minor": 2
}
